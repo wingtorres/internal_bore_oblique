{
 "cells": [
  {
   "cell_type": "code",
   "execution_count": null,
   "id": "a62d3391",
   "metadata": {},
   "outputs": [],
   "source": [
    "%load_ext autoreload \n",
    "%autoreload 2\n",
    "import numpy as np\n",
    "from scipy.optimize import minimize_scalar\n",
    "from scipy.integrate import cumulative_trapezoid, solve_ivp, solve_bvp\n",
    "import matplotlib.pyplot as plt\n",
    "from matplotlib.colors import LogNorm\n",
    "import seaborn as sns\n",
    "import cmocean\n",
    "\n",
    "\n",
    "from utility import internal_bore, bore_model, J_boreheight, J_borespeed, J_boremomn\n",
    "\n",
    "plt.rcParams['text.usetex'] = True\n",
    "plt.rcParams['text.latex.preamble'] = r'\\usepackage{lmodern}'"
   ]
  },
  {
   "cell_type": "markdown",
   "id": "e0405ca1",
   "metadata": {},
   "source": [
    "### Define bore parameters"
   ]
  },
  {
   "cell_type": "code",
   "execution_count": null,
   "id": "6243ac8d",
   "metadata": {},
   "outputs": [],
   "source": [
    "H = 50\n",
    "h0 = 100\n",
    "cb = 0.52\n",
    "ib = internal_bore(H = H, H_0 = h0, z0 = 0.7, ε = 0) #, d0 = 1e-5,  ε = -1e-2, rho_s = 1024, rho_b = 1024.1, rho_0 = 1024.05)"
   ]
  },
  {
   "cell_type": "markdown",
   "id": "1ae70fc6",
   "metadata": {},
   "source": [
    "### Compute solution: IVP Method"
   ]
  },
  {
   "cell_type": "code",
   "execution_count": 4,
   "id": "c863e330",
   "metadata": {},
   "outputs": [
    {
     "ename": "NameError",
     "evalue": "name 'np' is not defined",
     "output_type": "error",
     "traceback": [
      "\u001b[0;31m---------------------------------------------------------------------------\u001b[0m",
      "\u001b[0;31mNameError\u001b[0m                                 Traceback (most recent call last)",
      "\u001b[0;32m/var/folders/mk/_l7g1hv926v_m4fp0vyh3x5r0000gn/T/ipykernel_85372/1299438313.py\u001b[0m in \u001b[0;36m<module>\u001b[0;34m\u001b[0m\n\u001b[1;32m      2\u001b[0m     \u001b[0;32mreturn\u001b[0m \u001b[0mnp\u001b[0m\u001b[0;34m.\u001b[0m\u001b[0marray\u001b[0m\u001b[0;34m(\u001b[0m\u001b[0;34m[\u001b[0m\u001b[0mya\u001b[0m\u001b[0;34m[\u001b[0m\u001b[0;36m0\u001b[0m\u001b[0;34m]\u001b[0m\u001b[0;34m,\u001b[0m \u001b[0myb\u001b[0m\u001b[0;34m[\u001b[0m\u001b[0;36m0\u001b[0m\u001b[0;34m]\u001b[0m\u001b[0;34m,\u001b[0m \u001b[0mp\u001b[0m\u001b[0;34m[\u001b[0m\u001b[0;36m0\u001b[0m\u001b[0;34m]\u001b[0m\u001b[0;34m]\u001b[0m\u001b[0;34m)\u001b[0m\u001b[0;34m\u001b[0m\u001b[0;34m\u001b[0m\u001b[0m\n\u001b[1;32m      3\u001b[0m \u001b[0;34m\u001b[0m\u001b[0m\n\u001b[0;32m----> 4\u001b[0;31m \u001b[0my0\u001b[0m \u001b[0;34m=\u001b[0m \u001b[0mnp\u001b[0m\u001b[0;34m.\u001b[0m\u001b[0mzeros\u001b[0m\u001b[0;34m(\u001b[0m\u001b[0;34m(\u001b[0m\u001b[0;36m2\u001b[0m\u001b[0;34m,\u001b[0m\u001b[0mib\u001b[0m\u001b[0;34m.\u001b[0m\u001b[0mz\u001b[0m\u001b[0;34m.\u001b[0m\u001b[0msize\u001b[0m\u001b[0;34m)\u001b[0m\u001b[0;34m)\u001b[0m\u001b[0;34m\u001b[0m\u001b[0;34m\u001b[0m\u001b[0m\n\u001b[0m\u001b[1;32m      5\u001b[0m \u001b[0mM\u001b[0m \u001b[0;34m=\u001b[0m \u001b[0msolve_bvp\u001b[0m\u001b[0;34m(\u001b[0m\u001b[0mib\u001b[0m\u001b[0;34m.\u001b[0m\u001b[0mode_bvp\u001b[0m\u001b[0;34m,\u001b[0m \u001b[0mbc\u001b[0m\u001b[0;34m,\u001b[0m \u001b[0mib\u001b[0m\u001b[0;34m.\u001b[0m\u001b[0mz\u001b[0m\u001b[0;34m,\u001b[0m \u001b[0my0\u001b[0m\u001b[0;34m,\u001b[0m \u001b[0mp\u001b[0m \u001b[0;34m=\u001b[0m \u001b[0;34m[\u001b[0m\u001b[0mcb\u001b[0m\u001b[0;34m]\u001b[0m\u001b[0;34m,\u001b[0m \u001b[0mmax_nodes\u001b[0m\u001b[0;34m=\u001b[0m\u001b[0;36m1e4\u001b[0m\u001b[0;34m,\u001b[0m \u001b[0mverbose\u001b[0m \u001b[0;34m=\u001b[0m \u001b[0;36m0\u001b[0m\u001b[0;34m)\u001b[0m\u001b[0;34m\u001b[0m\u001b[0;34m\u001b[0m\u001b[0m\n\u001b[1;32m      6\u001b[0m \u001b[0mM\u001b[0m\u001b[0;34m\u001b[0m\u001b[0;34m\u001b[0m\u001b[0m\n",
      "\u001b[0;31mNameError\u001b[0m: name 'np' is not defined"
     ]
    }
   ],
   "source": [
    "def bc(ya, yb,p):\n",
    "    return np.array([ya[0], yb[0], p[0]])\n",
    "\n",
    "y0 = np.zeros((2,ib.z.size))\n",
    "M = solve_bvp(ib.ode_bvp, bc, ib.z, y0, p = [cb], max_nodes=1e4, verbose = 0)\n",
    "M"
   ]
  },
  {
   "cell_type": "markdown",
   "id": "49fb10e2",
   "metadata": {},
   "source": [
    "### Compute Solution IVP Method"
   ]
  },
  {
   "cell_type": "code",
   "execution_count": 3,
   "id": "88b25712",
   "metadata": {},
   "outputs": [
    {
     "ename": "NameError",
     "evalue": "name 'solve_ivp' is not defined",
     "output_type": "error",
     "traceback": [
      "\u001b[0;31m---------------------------------------------------------------------------\u001b[0m",
      "\u001b[0;31mNameError\u001b[0m                                 Traceback (most recent call last)",
      "\u001b[0;32m/var/folders/mk/_l7g1hv926v_m4fp0vyh3x5r0000gn/T/ipykernel_85372/1747880179.py\u001b[0m in \u001b[0;36m<module>\u001b[0;34m\u001b[0m\n\u001b[1;32m      2\u001b[0m \u001b[0;34m\u001b[0m\u001b[0m\n\u001b[1;32m      3\u001b[0m \u001b[0mdn0\u001b[0m \u001b[0;34m=\u001b[0m \u001b[0;36m1e-1\u001b[0m\u001b[0;34m\u001b[0m\u001b[0;34m\u001b[0m\u001b[0m\n\u001b[0;32m----> 4\u001b[0;31m \u001b[0mM\u001b[0m \u001b[0;34m=\u001b[0m \u001b[0msolve_ivp\u001b[0m\u001b[0;34m(\u001b[0m\u001b[0mib\u001b[0m\u001b[0;34m.\u001b[0m\u001b[0mode_ivp\u001b[0m\u001b[0;34m,\u001b[0m \u001b[0;34m[\u001b[0m\u001b[0;36m0\u001b[0m\u001b[0;34m,\u001b[0m\u001b[0mib\u001b[0m\u001b[0;34m.\u001b[0m\u001b[0mH\u001b[0m\u001b[0;34m]\u001b[0m\u001b[0;34m,\u001b[0m \u001b[0;34m[\u001b[0m\u001b[0;36m0\u001b[0m\u001b[0;34m,\u001b[0m \u001b[0mdn0\u001b[0m\u001b[0;34m]\u001b[0m\u001b[0;34m,\u001b[0m \u001b[0margs\u001b[0m \u001b[0;34m=\u001b[0m \u001b[0;34m(\u001b[0m\u001b[0mcb\u001b[0m\u001b[0;34m,\u001b[0m\u001b[0;34m)\u001b[0m\u001b[0;34m,\u001b[0m \u001b[0mdense_output\u001b[0m \u001b[0;34m=\u001b[0m \u001b[0;32mTrue\u001b[0m\u001b[0;34m,\u001b[0m \u001b[0mmethod\u001b[0m \u001b[0;34m=\u001b[0m \u001b[0;34m\"Radau\"\u001b[0m\u001b[0;34m)\u001b[0m\u001b[0;34m\u001b[0m\u001b[0;34m\u001b[0m\u001b[0m\n\u001b[0m\u001b[1;32m      5\u001b[0m \u001b[0mib\u001b[0m\u001b[0;34m.\u001b[0m\u001b[0mn\u001b[0m\u001b[0;34m,\u001b[0m \u001b[0mib\u001b[0m\u001b[0;34m.\u001b[0m\u001b[0mnz\u001b[0m \u001b[0;34m=\u001b[0m \u001b[0mM\u001b[0m\u001b[0;34m.\u001b[0m\u001b[0msol\u001b[0m\u001b[0;34m(\u001b[0m\u001b[0mib\u001b[0m\u001b[0;34m.\u001b[0m\u001b[0mz\u001b[0m\u001b[0;34m)\u001b[0m\u001b[0;34m[\u001b[0m\u001b[0;36m0\u001b[0m\u001b[0;34m]\u001b[0m\u001b[0;34m,\u001b[0m \u001b[0mM\u001b[0m\u001b[0;34m.\u001b[0m\u001b[0msol\u001b[0m\u001b[0;34m(\u001b[0m\u001b[0mib\u001b[0m\u001b[0;34m.\u001b[0m\u001b[0mz\u001b[0m\u001b[0;34m)\u001b[0m\u001b[0;34m[\u001b[0m\u001b[0;36m1\u001b[0m\u001b[0;34m]\u001b[0m\u001b[0;34m\u001b[0m\u001b[0;34m\u001b[0m\u001b[0m\n\u001b[1;32m      6\u001b[0m \u001b[0mib\u001b[0m\u001b[0;34m.\u001b[0m\u001b[0mz\u001b[0m \u001b[0;34m=\u001b[0m \u001b[0mib\u001b[0m\u001b[0;34m.\u001b[0m\u001b[0mza\u001b[0m \u001b[0;34m+\u001b[0m \u001b[0mib\u001b[0m\u001b[0;34m.\u001b[0m\u001b[0mn\u001b[0m \u001b[0;31m#displaced isopycnals\u001b[0m\u001b[0;34m\u001b[0m\u001b[0;34m\u001b[0m\u001b[0m\n",
      "\u001b[0;31mNameError\u001b[0m: name 'solve_ivp' is not defined"
     ]
    }
   ],
   "source": [
    "#Compute solution: IVP method\n",
    "\n",
    "dn0 = 1e-1\n",
    "M = solve_ivp(ib.ode_ivp, [0,ib.H], [0, dn0], args = (cb,), dense_output = True, method = \"Radau\")\n",
    "ib.n, ib.nz = M.sol(ib.z)[0], M.sol(ib.z)[1]\n",
    "ib.z = ib.za + ib.n #displaced isopycnals\n",
    "ib.b, ib.bz = ib.buoyancy(ib.z + ib.H_0 - ib.H)\n",
    "\n",
    "display( np.trapz(ib.b, ib.z) )\n",
    "#display(ib.nz)\n",
    "#n = ib.streamline_analytic(N = 1e-3, c = .5)\n",
    "\n",
    "#M"
   ]
  },
  {
   "cell_type": "markdown",
   "id": "d2b6979a",
   "metadata": {},
   "source": [
    "## Cross-shore structure of energy flux divergence\n",
    "\n",
    "Also of interest is the cross-shore structure of the energy flux divergence itself. We plot $F_x(h)$, but now against the same  coordinate ($x = 0$ at the 100m isobath and increases shoreward) as in Becherer et al. 2021(a) Figure 7 to invite comparison. A constant slope of $0.01$, characteristic of the region is assumed."
   ]
  },
  {
   "cell_type": "markdown",
   "id": "935bc775",
   "metadata": {},
   "source": [
    "<!-- ![diss](B21_fig7.jpg) -->\n",
    "<img src=\"B21_fig7.jpg\" alt=\"Drawing\" style=\"width: 750px;\"/>"
   ]
  },
  {
   "cell_type": "markdown",
   "id": "b0841a28",
   "metadata": {},
   "source": [
    "Subpanel b) shows the energy flux divergence and vertically integrated dissipation rate plotted against across-shore distance"
   ]
  },
  {
   "cell_type": "code",
   "execution_count": null,
   "id": "c018d859",
   "metadata": {},
   "outputs": [],
   "source": [
    "%matplotlib widget\n",
    "from matplotlib.colors import TwoSlopeNorm\n",
    "\n",
    "m = 0.01 #bottom slope\n",
    "x0 = 100/m #offshore distance of 100m isobath given slope (m) $h = -m*(x-x0) + 100\n",
    "\n",
    "fig, axes = plt.subplots(2,2,figsize = (6.5,6))\n",
    "\n",
    "h_s = 90 #shallow isobath\n",
    "h_d = 100 #deep isobath\n",
    "\n",
    "#plot Becherer 2021a best fit line\n",
    "hh = np.linspace(h_s, h_d,1000)\n",
    "xx = -(hh - 100)/m \n",
    "xx *= 1e-3\n",
    "yy = np.exp(-0.013*xx**2 - 0.18*xx + 5.0)\n",
    "\n",
    "plt.subplot(2, 1, 1)\n",
    "plt.plot(xx,yy/1e3, color = \"k\", label = \"B21 polynomial fit\")\n",
    "\n",
    "nd = 4\n",
    "h = np.linspace(h_s, h_d, nd) #depths\n",
    "rho = np.zeros((100,nd))\n",
    "X = np.zeros((100,nd))\n",
    "Z = np.zeros((100,nd))\n",
    "N2 = np.zeros((100,nd))\n",
    "\n",
    "#compute and plot W&H14 solution\n",
    "for k, f in enumerate(h):\n",
    "    display(f)\n",
    "\n",
    "    ib = internal_bore(H = f)\n",
    "    F_hb = minimize_scalar(bore_model, args = (ib,), method = \"bounded\", bounds = bounds, options = dict(maxiter = 50, xatol=1e-2)) #maximize energy loss\n",
    "    IB = bore_model(h_b = f/2, ib = ib, output = \"ib\", disp = False)\n",
    "    \n",
    "    x = -(f - 100)/m\n",
    "    ps = plt.scatter(x/1e3, IB.D, color = \"k\", facecolors = \"none\")\n",
    "\n",
    "    rho[:,k] = IB.density()\n",
    "    N2[:,k] = IB.bvf()\n",
    "    X[:,k] = x\n",
    "    Z[:,k] = IB.zb - IB.zb.max()\n",
    "    \n",
    "ps.set_label(\"W\\&H14\")\n",
    "plt.gca().set_xlabel(\"x (km)\", fontsize = 14)\n",
    "plt.gca().set_ylabel(\"$F_x$\", rotation = 0, fontsize = 14, labelpad = 15)\n",
    "plt.gca().set_yscale(\"log\")\n",
    "plt.gca().legend(frameon = False)\n",
    "\n",
    "#plot density\n",
    "pc = axes[1,0].pcolormesh(X/1e3, Z, rho - 1000, cmap = \"cmo.dense\", shading = \"nearest\")\n",
    "axes[1,0].contour(X/1e3, Z, rho - 1000, 20, colors = \"w\", linewidths = 0.5)\n",
    "plt.colorbar(pc, ax = axes[1,0], orientation = \"horizontal\", pad = 0.25)\n",
    "\n",
    "#compute geostrophic velocity (thermal wind)\n",
    "f0 = 1e-4\n",
    "v = cumulative_trapezoid( -(N2/f0)*np.gradient(Z, axis = 1)/np.gradient(X, axis = 1), Z, axis = 0, initial = 0)\n",
    "\n",
    "#plot geostrophic velocity\n",
    "pc = axes[1,1].pcolormesh(X/1e3, Z, v, cmap = \"cmo.balance\", shading = \"nearest\", norm = TwoSlopeNorm(vcenter = 0))\n",
    "plt.colorbar(pc, ax = axes[1,1], orientation = \"horizontal\", pad = 0.25)\n",
    "\n",
    "for ax in axes.flatten():\n",
    "    #ax.set_xlim(0,13.5)\n",
    "    ax.set_xlabel(\"x (km)\", fontsize = 14)\n",
    "\n",
    "# axes[1,0].set_xlim(0, 13.5)\n",
    "axes[1,0].set_ylabel(\"z (m)\", rotation = 0, fontsize = 14, labelpad = 20)\n",
    "axes[1,0].set_facecolor(\"gainsboro\")\n",
    "\n",
    "axes[1,1].set_facecolor(\"gainsboro\")\n",
    "axes[1,1].yaxis.set_visible(False)\n",
    "\n",
    "axes[0,1].set_visible(False)\n",
    "fig.tight_layout()\n",
    "sns.despine()"
   ]
  },
  {
   "cell_type": "markdown",
   "id": "9ee80bb3",
   "metadata": {},
   "source": [
    "## Bore Amplitude.\n",
    "\n",
    "In W&H14, theoretical predictions were compared to numerical model results, so the desired bore amplitude for use in the iterative procedure was prescribed. Here, however, we must come up with a bore amplitude estimate _a priori_. By applying the W&H14 bore model, we find an $\\widetilde{H}_b$ for a given depth and buoyancy profile that maximizes the depth-integrated energy loss ($F_x$), and also be physically realistic ($F_x > 0$). This approach is consistent with the W&H14 finding that the best analytical model fit to simulation involved using a head loss function that maximized dissipation ($\\epsilon \\rightarrow -\\infty$).\n",
    "\n",
    "** do we actually need to maximize dissipation or just aassume h_b = 0.5*H?"
   ]
  },
  {
   "cell_type": "markdown",
   "id": "723689e9",
   "metadata": {},
   "source": [
    "$$ b(z) = \\frac{\\rho(z) - \\rho(H)}{\\rho(0) - \\rho(H)} $$\n",
    "\n",
    "$$ b(z) = \\frac{1}{2} - \\frac{1}{2}\\tanh{[\\lambda(z-z_0)]}$$\n",
    "\n",
    "$$ b'(z) = \\frac{\\lambda }{2}\\text{sech}^2{[\\lambda(z-z_0)]}$$\n",
    "\n",
    "$$\\rho_a(z) = \\frac{1}{2} - \\frac{1}{2}\\tanh{[\\lambda(z-h_a)]}$$\n",
    "\n",
    "$$z_0(x\\rightarrow 0) = \\frac{1}{2}(h_a + h_d)$$\n",
    "\n",
    "$$h_b = \\int^H_0 b(z)\\,dz$$\n",
    "\n",
    "$$\\frac{d}{dz} = (1-\\eta_z)\\frac{d}{dz_a}$$\n",
    "\n",
    "$$z_a = z - \\eta$$"
   ]
  },
  {
   "cell_type": "markdown",
   "id": "4cc1685d",
   "metadata": {},
   "source": [
    "$$ <D> = \\int^T_0 \\frac{D_0}{2}\\big[\\sin(\\frac{2\\pi t}{T}) + 1\\big] dt $$  \n",
    "$$ <D> = \\frac{D_0}{T}\\int^T_0 \\text{ sech}(\\sin\\frac{\\pi t}{T})dt $$  "
   ]
  },
  {
   "cell_type": "markdown",
   "id": "f2e6faf7",
   "metadata": {},
   "source": [
    "thermal wind as related to BVF\n",
    "$$ f \\frac{dv}{dz} = N^2\\frac{d z_{rho}}{dx} $$"
   ]
  },
  {
   "cell_type": "code",
   "execution_count": 7,
   "id": "2194efd4",
   "metadata": {},
   "outputs": [],
   "source": [
    "def periodic_func(t,T, λ = 10, phase = 0):\n",
    "    return 1/np.cosh(λ*np.sin( (np.pi*(t-phase))/T))"
   ]
  },
  {
   "cell_type": "code",
   "execution_count": null,
   "id": "88d4e408",
   "metadata": {},
   "outputs": [],
   "source": [
    "%matplotlib widget\n",
    "T = 12.42*3600/2\n",
    "λ = 10\n",
    "t = np.linspace(0,T*4,1000)\n",
    "f = periodic_func(t,T, λ = λ, phase = T/2 )\n",
    "\n",
    "plt.figure(figsize = (5,1.5))\n",
    "plt.plot(t/3600,f,\"k\")\n",
    "cff = np.trapz(f, t)/T"
   ]
  }
 ],
 "metadata": {
  "kernelspec": {
   "display_name": "Python 3 (ipykernel)",
   "language": "python",
   "name": "python3"
  },
  "language_info": {
   "codemirror_mode": {
    "name": "ipython",
    "version": 3
   },
   "file_extension": ".py",
   "mimetype": "text/x-python",
   "name": "python",
   "nbconvert_exporter": "python",
   "pygments_lexer": "ipython3",
   "version": "3.9.7"
  }
 },
 "nbformat": 4,
 "nbformat_minor": 5
}
